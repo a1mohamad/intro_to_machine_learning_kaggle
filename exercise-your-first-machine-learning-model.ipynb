{
 "cells": [
  {
   "cell_type": "markdown",
   "id": "dbdb27df",
   "metadata": {
    "papermill": {
     "duration": 0.004985,
     "end_time": "2025-03-20T08:55:02.265634",
     "exception": false,
     "start_time": "2025-03-20T08:55:02.260649",
     "status": "completed"
    },
    "tags": []
   },
   "source": [
    "**This notebook is an exercise in the [Introduction to Machine Learning](https://www.kaggle.com/learn/intro-to-machine-learning) course.  You can reference the tutorial at [this link](https://www.kaggle.com/dansbecker/your-first-machine-learning-model).**\n",
    "\n",
    "---\n"
   ]
  },
  {
   "cell_type": "markdown",
   "id": "e1a2d03e",
   "metadata": {
    "papermill": {
     "duration": 0.004592,
     "end_time": "2025-03-20T08:55:02.275329",
     "exception": false,
     "start_time": "2025-03-20T08:55:02.270737",
     "status": "completed"
    },
    "tags": []
   },
   "source": [
    "## Recap\n",
    "So far, you have loaded your data and reviewed it with the following code. Run this cell to set up your coding environment where the previous step left off."
   ]
  },
  {
   "cell_type": "code",
   "execution_count": 1,
   "id": "8055329f",
   "metadata": {
    "execution": {
     "iopub.execute_input": "2025-03-20T08:55:02.286127Z",
     "iopub.status.busy": "2025-03-20T08:55:02.285781Z",
     "iopub.status.idle": "2025-03-20T08:55:05.536043Z",
     "shell.execute_reply": "2025-03-20T08:55:05.534040Z"
    },
    "papermill": {
     "duration": 3.258305,
     "end_time": "2025-03-20T08:55:05.538128",
     "exception": false,
     "start_time": "2025-03-20T08:55:02.279823",
     "status": "completed"
    },
    "tags": []
   },
   "outputs": [
    {
     "name": "stdout",
     "output_type": "stream",
     "text": [
      "Setup Complete\n"
     ]
    }
   ],
   "source": [
    "# Code you have previously used to load data\n",
    "import pandas as pd\n",
    "\n",
    "# Path of the file to read\n",
    "iowa_file_path = '../input/home-data-for-ml-course/train.csv'\n",
    "\n",
    "home_data = pd.read_csv(iowa_file_path)\n",
    "\n",
    "# Set up code checking\n",
    "from learntools.core import binder\n",
    "binder.bind(globals())\n",
    "from learntools.machine_learning.ex3 import *\n",
    "\n",
    "print(\"Setup Complete\")"
   ]
  },
  {
   "cell_type": "markdown",
   "id": "87541cf7",
   "metadata": {
    "papermill": {
     "duration": 0.004852,
     "end_time": "2025-03-20T08:55:05.547974",
     "exception": false,
     "start_time": "2025-03-20T08:55:05.543122",
     "status": "completed"
    },
    "tags": []
   },
   "source": [
    "# Exercises\n",
    "\n",
    "## Step 1: Specify Prediction Target\n",
    "Select the target variable, which corresponds to the sales price. Save this to a new variable called `y`. You'll need to print a list of the columns to find the name of the column you need.\n"
   ]
  },
  {
   "cell_type": "code",
   "execution_count": 2,
   "id": "89e06438",
   "metadata": {
    "execution": {
     "iopub.execute_input": "2025-03-20T08:55:05.559299Z",
     "iopub.status.busy": "2025-03-20T08:55:05.558678Z",
     "iopub.status.idle": "2025-03-20T08:55:05.566048Z",
     "shell.execute_reply": "2025-03-20T08:55:05.565068Z"
    },
    "papermill": {
     "duration": 0.015327,
     "end_time": "2025-03-20T08:55:05.567949",
     "exception": false,
     "start_time": "2025-03-20T08:55:05.552622",
     "status": "completed"
    },
    "tags": []
   },
   "outputs": [
    {
     "data": {
      "text/plain": [
       "Index(['Id', 'MSSubClass', 'MSZoning', 'LotFrontage', 'LotArea', 'Street',\n",
       "       'Alley', 'LotShape', 'LandContour', 'Utilities', 'LotConfig',\n",
       "       'LandSlope', 'Neighborhood', 'Condition1', 'Condition2', 'BldgType',\n",
       "       'HouseStyle', 'OverallQual', 'OverallCond', 'YearBuilt', 'YearRemodAdd',\n",
       "       'RoofStyle', 'RoofMatl', 'Exterior1st', 'Exterior2nd', 'MasVnrType',\n",
       "       'MasVnrArea', 'ExterQual', 'ExterCond', 'Foundation', 'BsmtQual',\n",
       "       'BsmtCond', 'BsmtExposure', 'BsmtFinType1', 'BsmtFinSF1',\n",
       "       'BsmtFinType2', 'BsmtFinSF2', 'BsmtUnfSF', 'TotalBsmtSF', 'Heating',\n",
       "       'HeatingQC', 'CentralAir', 'Electrical', '1stFlrSF', '2ndFlrSF',\n",
       "       'LowQualFinSF', 'GrLivArea', 'BsmtFullBath', 'BsmtHalfBath', 'FullBath',\n",
       "       'HalfBath', 'BedroomAbvGr', 'KitchenAbvGr', 'KitchenQual',\n",
       "       'TotRmsAbvGrd', 'Functional', 'Fireplaces', 'FireplaceQu', 'GarageType',\n",
       "       'GarageYrBlt', 'GarageFinish', 'GarageCars', 'GarageArea', 'GarageQual',\n",
       "       'GarageCond', 'PavedDrive', 'WoodDeckSF', 'OpenPorchSF',\n",
       "       'EnclosedPorch', '3SsnPorch', 'ScreenPorch', 'PoolArea', 'PoolQC',\n",
       "       'Fence', 'MiscFeature', 'MiscVal', 'MoSold', 'YrSold', 'SaleType',\n",
       "       'SaleCondition', 'SalePrice'],\n",
       "      dtype='object')"
      ]
     },
     "execution_count": 2,
     "metadata": {},
     "output_type": "execute_result"
    }
   ],
   "source": [
    "# print the list of columns in the dataset to find the name of the prediction target\n",
    "home_data.columns"
   ]
  },
  {
   "cell_type": "code",
   "execution_count": 3,
   "id": "e4e2ac60",
   "metadata": {
    "execution": {
     "iopub.execute_input": "2025-03-20T08:55:05.579063Z",
     "iopub.status.busy": "2025-03-20T08:55:05.578666Z",
     "iopub.status.idle": "2025-03-20T08:55:05.593029Z",
     "shell.execute_reply": "2025-03-20T08:55:05.591937Z"
    },
    "papermill": {
     "duration": 0.021843,
     "end_time": "2025-03-20T08:55:05.594688",
     "exception": false,
     "start_time": "2025-03-20T08:55:05.572845",
     "status": "completed"
    },
    "tags": []
   },
   "outputs": [
    {
     "data": {
      "application/javascript": [
       "parent.postMessage({\"jupyterEvent\": \"custom.exercise_interaction\", \"data\": {\"outcomeType\": 1, \"valueTowardsCompletion\": 0.25, \"interactionType\": 1, \"questionType\": 2, \"questionId\": \"1_SetTarget\", \"learnToolsVersion\": \"0.3.4\", \"failureMessage\": \"\", \"exceptionClass\": \"\", \"trace\": \"\"}}, \"*\")"
      ],
      "text/plain": [
       "<IPython.core.display.Javascript object>"
      ]
     },
     "metadata": {},
     "output_type": "display_data"
    },
    {
     "data": {
      "text/markdown": [
       "<span style=\"color:#33cc33\">Correct</span>"
      ],
      "text/plain": [
       "Correct"
      ]
     },
     "metadata": {},
     "output_type": "display_data"
    }
   ],
   "source": [
    "y = home_data.SalePrice\n",
    "\n",
    "# Check your answer\n",
    "step_1.check()"
   ]
  },
  {
   "cell_type": "code",
   "execution_count": 4,
   "id": "735a0c62",
   "metadata": {
    "collapsed": true,
    "execution": {
     "iopub.execute_input": "2025-03-20T08:55:05.605557Z",
     "iopub.status.busy": "2025-03-20T08:55:05.605155Z",
     "iopub.status.idle": "2025-03-20T08:55:05.609741Z",
     "shell.execute_reply": "2025-03-20T08:55:05.608587Z"
    },
    "jupyter": {
     "outputs_hidden": true
    },
    "papermill": {
     "duration": 0.0119,
     "end_time": "2025-03-20T08:55:05.611405",
     "exception": false,
     "start_time": "2025-03-20T08:55:05.599505",
     "status": "completed"
    },
    "tags": []
   },
   "outputs": [],
   "source": [
    "# The lines below will show you a hint or the solution.\n",
    "# step_1.hint() \n",
    "# step_1.solution()"
   ]
  },
  {
   "cell_type": "markdown",
   "id": "dd3c8b9a",
   "metadata": {
    "papermill": {
     "duration": 0.004381,
     "end_time": "2025-03-20T08:55:05.620773",
     "exception": false,
     "start_time": "2025-03-20T08:55:05.616392",
     "status": "completed"
    },
    "tags": []
   },
   "source": [
    "## Step 2: Create X\n",
    "Now you will create a DataFrame called `X` holding the predictive features.\n",
    "\n",
    "Since you want only some columns from the original data, you'll first create a list with the names of the columns you want in `X`.\n",
    "\n",
    "You'll use just the following columns in the list (you can copy and paste the whole list to save some typing, though you'll still need to add quotes):\n",
    "  * LotArea\n",
    "  * YearBuilt\n",
    "  * 1stFlrSF\n",
    "  * 2ndFlrSF\n",
    "  * FullBath\n",
    "  * BedroomAbvGr\n",
    "  * TotRmsAbvGrd\n",
    "\n",
    "After you've created that list of features, use it to create the DataFrame that you'll use to fit the model."
   ]
  },
  {
   "cell_type": "code",
   "execution_count": 5,
   "id": "31329a19",
   "metadata": {
    "execution": {
     "iopub.execute_input": "2025-03-20T08:55:05.631354Z",
     "iopub.status.busy": "2025-03-20T08:55:05.630973Z",
     "iopub.status.idle": "2025-03-20T08:55:05.643626Z",
     "shell.execute_reply": "2025-03-20T08:55:05.642502Z"
    },
    "papermill": {
     "duration": 0.019801,
     "end_time": "2025-03-20T08:55:05.645302",
     "exception": false,
     "start_time": "2025-03-20T08:55:05.625501",
     "status": "completed"
    },
    "tags": []
   },
   "outputs": [
    {
     "data": {
      "application/javascript": [
       "parent.postMessage({\"jupyterEvent\": \"custom.exercise_interaction\", \"data\": {\"outcomeType\": 1, \"valueTowardsCompletion\": 0.25, \"interactionType\": 1, \"questionType\": 2, \"questionId\": \"2_SelectPredictionData\", \"learnToolsVersion\": \"0.3.4\", \"failureMessage\": \"\", \"exceptionClass\": \"\", \"trace\": \"\"}}, \"*\")"
      ],
      "text/plain": [
       "<IPython.core.display.Javascript object>"
      ]
     },
     "metadata": {},
     "output_type": "display_data"
    },
    {
     "data": {
      "text/markdown": [
       "<span style=\"color:#33cc33\">Correct</span>"
      ],
      "text/plain": [
       "Correct"
      ]
     },
     "metadata": {},
     "output_type": "display_data"
    }
   ],
   "source": [
    "# Create the list of features below\n",
    "feature_names = ['LotArea',\n",
    "                 'YearBuilt',\n",
    "                 '1stFlrSF',\n",
    "                 '2ndFlrSF',\n",
    "                 'FullBath',\n",
    "                 'BedroomAbvGr',\n",
    "                 'TotRmsAbvGrd']\n",
    "\n",
    "# Select data corresponding to features in feature_names\n",
    "X = home_data[feature_names]\n",
    "\n",
    "# Check your answer\n",
    "step_2.check()"
   ]
  },
  {
   "cell_type": "code",
   "execution_count": 6,
   "id": "bc5ba7fd",
   "metadata": {
    "collapsed": true,
    "execution": {
     "iopub.execute_input": "2025-03-20T08:55:05.657002Z",
     "iopub.status.busy": "2025-03-20T08:55:05.656573Z",
     "iopub.status.idle": "2025-03-20T08:55:05.660579Z",
     "shell.execute_reply": "2025-03-20T08:55:05.659432Z"
    },
    "jupyter": {
     "outputs_hidden": true
    },
    "papermill": {
     "duration": 0.012688,
     "end_time": "2025-03-20T08:55:05.663280",
     "exception": false,
     "start_time": "2025-03-20T08:55:05.650592",
     "status": "completed"
    },
    "tags": []
   },
   "outputs": [],
   "source": [
    "# step_2.hint()\n",
    "# step_2.solution()"
   ]
  },
  {
   "cell_type": "markdown",
   "id": "75825e0e",
   "metadata": {
    "papermill": {
     "duration": 0.004954,
     "end_time": "2025-03-20T08:55:05.673595",
     "exception": false,
     "start_time": "2025-03-20T08:55:05.668641",
     "status": "completed"
    },
    "tags": []
   },
   "source": [
    "## Review Data\n",
    "Before building a model, take a quick look at **X** to verify it looks sensible"
   ]
  },
  {
   "cell_type": "code",
   "execution_count": 7,
   "id": "523b1c31",
   "metadata": {
    "execution": {
     "iopub.execute_input": "2025-03-20T08:55:05.686290Z",
     "iopub.status.busy": "2025-03-20T08:55:05.685874Z",
     "iopub.status.idle": "2025-03-20T08:55:05.721225Z",
     "shell.execute_reply": "2025-03-20T08:55:05.719760Z"
    },
    "papermill": {
     "duration": 0.043905,
     "end_time": "2025-03-20T08:55:05.723263",
     "exception": false,
     "start_time": "2025-03-20T08:55:05.679358",
     "status": "completed"
    },
    "tags": []
   },
   "outputs": [
    {
     "name": "stdout",
     "output_type": "stream",
     "text": [
      "             LotArea    YearBuilt     1stFlrSF     2ndFlrSF     FullBath  \\\n",
      "count    1460.000000  1460.000000  1460.000000  1460.000000  1460.000000   \n",
      "mean    10516.828082  1971.267808  1162.626712   346.992466     1.565068   \n",
      "std      9981.264932    30.202904   386.587738   436.528436     0.550916   \n",
      "min      1300.000000  1872.000000   334.000000     0.000000     0.000000   \n",
      "25%      7553.500000  1954.000000   882.000000     0.000000     1.000000   \n",
      "50%      9478.500000  1973.000000  1087.000000     0.000000     2.000000   \n",
      "75%     11601.500000  2000.000000  1391.250000   728.000000     2.000000   \n",
      "max    215245.000000  2010.000000  4692.000000  2065.000000     3.000000   \n",
      "\n",
      "       BedroomAbvGr  TotRmsAbvGrd  \n",
      "count   1460.000000   1460.000000  \n",
      "mean       2.866438      6.517808  \n",
      "std        0.815778      1.625393  \n",
      "min        0.000000      2.000000  \n",
      "25%        2.000000      5.000000  \n",
      "50%        3.000000      6.000000  \n",
      "75%        3.000000      7.000000  \n",
      "max        8.000000     14.000000  \n",
      "   LotArea  YearBuilt  1stFlrSF  2ndFlrSF  FullBath  BedroomAbvGr  \\\n",
      "0     8450       2003       856       854         2             3   \n",
      "1     9600       1976      1262         0         2             3   \n",
      "2    11250       2001       920       866         2             3   \n",
      "3     9550       1915       961       756         1             3   \n",
      "4    14260       2000      1145      1053         2             4   \n",
      "\n",
      "   TotRmsAbvGrd  \n",
      "0             8  \n",
      "1             6  \n",
      "2             6  \n",
      "3             7  \n",
      "4             9  \n"
     ]
    }
   ],
   "source": [
    "# Review data\n",
    "# print description or statistics from X\n",
    "print(X.describe())\n",
    "\n",
    "# print the top few lines\n",
    "print(X.head())"
   ]
  },
  {
   "cell_type": "markdown",
   "id": "d3f17d99",
   "metadata": {
    "papermill": {
     "duration": 0.004949,
     "end_time": "2025-03-20T08:55:05.733982",
     "exception": false,
     "start_time": "2025-03-20T08:55:05.729033",
     "status": "completed"
    },
    "tags": []
   },
   "source": [
    "## Step 3: Specify and Fit Model\n",
    "Create a `DecisionTreeRegressor` and save it iowa_model. Ensure you've done the relevant import from sklearn to run this command.\n",
    "\n",
    "Then fit the model you just created using the data in `X` and `y` that you saved above."
   ]
  },
  {
   "cell_type": "code",
   "execution_count": 8,
   "id": "6f088e20",
   "metadata": {
    "execution": {
     "iopub.execute_input": "2025-03-20T08:55:05.746494Z",
     "iopub.status.busy": "2025-03-20T08:55:05.746047Z",
     "iopub.status.idle": "2025-03-20T08:55:05.767105Z",
     "shell.execute_reply": "2025-03-20T08:55:05.765867Z"
    },
    "papermill": {
     "duration": 0.029987,
     "end_time": "2025-03-20T08:55:05.769344",
     "exception": false,
     "start_time": "2025-03-20T08:55:05.739357",
     "status": "completed"
    },
    "tags": []
   },
   "outputs": [
    {
     "data": {
      "application/javascript": [
       "parent.postMessage({\"jupyterEvent\": \"custom.exercise_interaction\", \"data\": {\"outcomeType\": 1, \"valueTowardsCompletion\": 0.25, \"interactionType\": 1, \"questionType\": 2, \"questionId\": \"3_CreateModel\", \"learnToolsVersion\": \"0.3.4\", \"failureMessage\": \"\", \"exceptionClass\": \"\", \"trace\": \"\"}}, \"*\")"
      ],
      "text/plain": [
       "<IPython.core.display.Javascript object>"
      ]
     },
     "metadata": {},
     "output_type": "display_data"
    },
    {
     "data": {
      "text/markdown": [
       "<span style=\"color:#33cc33\">Correct</span>"
      ],
      "text/plain": [
       "Correct"
      ]
     },
     "metadata": {},
     "output_type": "display_data"
    }
   ],
   "source": [
    "from sklearn.tree import DecisionTreeRegressor\n",
    "#specify the model. \n",
    "#For model reproducibility, set a numeric value for random_state when specifying the model\n",
    "iowa_model = DecisionTreeRegressor(random_state= 1)\n",
    "\n",
    "# Fit the model\n",
    "iowa_model.fit(X, y)\n",
    "\n",
    "# Check your answer\n",
    "step_3.check()"
   ]
  },
  {
   "cell_type": "code",
   "execution_count": 9,
   "id": "7e655972",
   "metadata": {
    "collapsed": true,
    "execution": {
     "iopub.execute_input": "2025-03-20T08:55:05.782174Z",
     "iopub.status.busy": "2025-03-20T08:55:05.781801Z",
     "iopub.status.idle": "2025-03-20T08:55:05.785782Z",
     "shell.execute_reply": "2025-03-20T08:55:05.784653Z"
    },
    "jupyter": {
     "outputs_hidden": true
    },
    "papermill": {
     "duration": 0.012863,
     "end_time": "2025-03-20T08:55:05.787837",
     "exception": false,
     "start_time": "2025-03-20T08:55:05.774974",
     "status": "completed"
    },
    "tags": []
   },
   "outputs": [],
   "source": [
    "# step_3.hint()\n",
    "# step_3.solution()"
   ]
  },
  {
   "cell_type": "markdown",
   "id": "fc378592",
   "metadata": {
    "papermill": {
     "duration": 0.005158,
     "end_time": "2025-03-20T08:55:05.798593",
     "exception": false,
     "start_time": "2025-03-20T08:55:05.793435",
     "status": "completed"
    },
    "tags": []
   },
   "source": [
    "## Step 4: Make Predictions\n",
    "Make predictions with the model's `predict` command using `X` as the data. Save the results to a variable called `predictions`."
   ]
  },
  {
   "cell_type": "code",
   "execution_count": 10,
   "id": "d1f1e03f",
   "metadata": {
    "execution": {
     "iopub.execute_input": "2025-03-20T08:55:05.811544Z",
     "iopub.status.busy": "2025-03-20T08:55:05.811114Z",
     "iopub.status.idle": "2025-03-20T08:55:05.824682Z",
     "shell.execute_reply": "2025-03-20T08:55:05.823507Z"
    },
    "papermill": {
     "duration": 0.021642,
     "end_time": "2025-03-20T08:55:05.826347",
     "exception": false,
     "start_time": "2025-03-20T08:55:05.804705",
     "status": "completed"
    },
    "tags": []
   },
   "outputs": [
    {
     "name": "stdout",
     "output_type": "stream",
     "text": [
      "[208500. 181500. 223500. ... 266500. 142125. 147500.]\n"
     ]
    },
    {
     "data": {
      "application/javascript": [
       "parent.postMessage({\"jupyterEvent\": \"custom.exercise_interaction\", \"data\": {\"outcomeType\": 1, \"valueTowardsCompletion\": 0.25, \"interactionType\": 1, \"questionType\": 2, \"questionId\": \"4_MakePredictions\", \"learnToolsVersion\": \"0.3.4\", \"failureMessage\": \"\", \"exceptionClass\": \"\", \"trace\": \"\"}}, \"*\")"
      ],
      "text/plain": [
       "<IPython.core.display.Javascript object>"
      ]
     },
     "metadata": {},
     "output_type": "display_data"
    },
    {
     "data": {
      "text/markdown": [
       "<span style=\"color:#33cc33\">Correct</span>"
      ],
      "text/plain": [
       "Correct"
      ]
     },
     "metadata": {},
     "output_type": "display_data"
    }
   ],
   "source": [
    "predictions = iowa_model.predict(X)\n",
    "print(predictions)\n",
    "\n",
    "# Check your answer\n",
    "step_4.check()"
   ]
  },
  {
   "cell_type": "code",
   "execution_count": 11,
   "id": "f0e75118",
   "metadata": {
    "collapsed": true,
    "execution": {
     "iopub.execute_input": "2025-03-20T08:55:05.838880Z",
     "iopub.status.busy": "2025-03-20T08:55:05.838557Z",
     "iopub.status.idle": "2025-03-20T08:55:05.842435Z",
     "shell.execute_reply": "2025-03-20T08:55:05.841445Z"
    },
    "jupyter": {
     "outputs_hidden": true
    },
    "papermill": {
     "duration": 0.011987,
     "end_time": "2025-03-20T08:55:05.844135",
     "exception": false,
     "start_time": "2025-03-20T08:55:05.832148",
     "status": "completed"
    },
    "tags": []
   },
   "outputs": [],
   "source": [
    "# step_4.hint()\n",
    "# step_4.solution()"
   ]
  },
  {
   "cell_type": "markdown",
   "id": "098c2ee1",
   "metadata": {
    "papermill": {
     "duration": 0.005737,
     "end_time": "2025-03-20T08:55:05.855596",
     "exception": false,
     "start_time": "2025-03-20T08:55:05.849859",
     "status": "completed"
    },
    "tags": []
   },
   "source": [
    "## Think About Your Results\n",
    "\n",
    "Use the `head` method to compare the top few predictions to the actual home values (in `y`) for those same homes. Anything surprising?\n"
   ]
  },
  {
   "cell_type": "code",
   "execution_count": 12,
   "id": "952442d3",
   "metadata": {
    "execution": {
     "iopub.execute_input": "2025-03-20T08:55:05.868407Z",
     "iopub.status.busy": "2025-03-20T08:55:05.868026Z",
     "iopub.status.idle": "2025-03-20T08:55:05.875841Z",
     "shell.execute_reply": "2025-03-20T08:55:05.874649Z"
    },
    "papermill": {
     "duration": 0.016485,
     "end_time": "2025-03-20T08:55:05.877835",
     "exception": false,
     "start_time": "2025-03-20T08:55:05.861350",
     "status": "completed"
    },
    "tags": []
   },
   "outputs": [
    {
     "name": "stdout",
     "output_type": "stream",
     "text": [
      "[208500. 181500. 223500. 140000. 250000.]\n",
      "0    208500\n",
      "1    181500\n",
      "2    223500\n",
      "3    140000\n",
      "4    250000\n",
      "Name: SalePrice, dtype: int64\n"
     ]
    }
   ],
   "source": [
    "# You can write code in this cell\n",
    "print(iowa_model.predict(X.head()))\n",
    "print(y.head())\n"
   ]
  },
  {
   "cell_type": "markdown",
   "id": "ac8db942",
   "metadata": {
    "papermill": {
     "duration": 0.00653,
     "end_time": "2025-03-20T08:55:05.890865",
     "exception": false,
     "start_time": "2025-03-20T08:55:05.884335",
     "status": "completed"
    },
    "tags": []
   },
   "source": [
    "It's natural to ask how accurate the model's predictions will be and how you can improve that. That will be you're next step.\n",
    "\n",
    "# Keep Going\n",
    "\n",
    "You are ready for **[Model Validation](https://www.kaggle.com/dansbecker/model-validation).**\n"
   ]
  },
  {
   "cell_type": "markdown",
   "id": "dd52e63d",
   "metadata": {
    "papermill": {
     "duration": 0.005704,
     "end_time": "2025-03-20T08:55:05.902670",
     "exception": false,
     "start_time": "2025-03-20T08:55:05.896966",
     "status": "completed"
    },
    "tags": []
   },
   "source": [
    "---\n",
    "\n",
    "\n",
    "\n",
    "\n",
    "*Have questions or comments? Visit the [course discussion forum](https://www.kaggle.com/learn/intro-to-machine-learning/discussion) to chat with other learners.*"
   ]
  }
 ],
 "metadata": {
  "kaggle": {
   "accelerator": "none",
   "dataSources": [
    {
     "databundleVersionId": 111096,
     "sourceId": 10211,
     "sourceType": "competition"
    },
    {
     "datasetId": 11167,
     "sourceId": 15520,
     "sourceType": "datasetVersion"
    },
    {
     "datasetId": 2709,
     "sourceId": 38454,
     "sourceType": "datasetVersion"
    }
   ],
   "isGpuEnabled": false,
   "isInternetEnabled": false,
   "language": "python",
   "sourceType": "notebook"
  },
  "kernelspec": {
   "display_name": "Python 3",
   "language": "python",
   "name": "python3"
  },
  "language_info": {
   "codemirror_mode": {
    "name": "ipython",
    "version": 3
   },
   "file_extension": ".py",
   "mimetype": "text/x-python",
   "name": "python",
   "nbconvert_exporter": "python",
   "pygments_lexer": "ipython3",
   "version": "3.10.12"
  },
  "papermill": {
   "default_parameters": {},
   "duration": 7.364625,
   "end_time": "2025-03-20T08:55:06.631470",
   "environment_variables": {},
   "exception": null,
   "input_path": "__notebook__.ipynb",
   "output_path": "__notebook__.ipynb",
   "parameters": {},
   "start_time": "2025-03-20T08:54:59.266845",
   "version": "2.6.0"
  }
 },
 "nbformat": 4,
 "nbformat_minor": 5
}
