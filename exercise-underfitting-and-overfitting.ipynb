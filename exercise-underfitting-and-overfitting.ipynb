{
 "cells": [
  {
   "cell_type": "markdown",
   "id": "1de429b1",
   "metadata": {
    "papermill": {
     "duration": 0.007129,
     "end_time": "2025-03-26T12:50:02.598901",
     "exception": false,
     "start_time": "2025-03-26T12:50:02.591772",
     "status": "completed"
    },
    "tags": []
   },
   "source": [
    "**This notebook is an exercise in the [Introduction to Machine Learning](https://www.kaggle.com/learn/intro-to-machine-learning) course.  You can reference the tutorial at [this link](https://www.kaggle.com/dansbecker/underfitting-and-overfitting).**\n",
    "\n",
    "---\n"
   ]
  },
  {
   "cell_type": "markdown",
   "id": "15ae7a85",
   "metadata": {
    "papermill": {
     "duration": 0.005752,
     "end_time": "2025-03-26T12:50:02.611577",
     "exception": false,
     "start_time": "2025-03-26T12:50:02.605825",
     "status": "completed"
    },
    "tags": []
   },
   "source": [
    "## Recap\n",
    "You've built your first model, and now it's time to optimize the size of the tree to make better predictions. Run this cell to set up your coding environment where the previous step left off."
   ]
  },
  {
   "cell_type": "code",
   "execution_count": 1,
   "id": "1baba995",
   "metadata": {
    "execution": {
     "iopub.execute_input": "2025-03-26T12:50:02.625476Z",
     "iopub.status.busy": "2025-03-26T12:50:02.625016Z",
     "iopub.status.idle": "2025-03-26T12:50:05.601259Z",
     "shell.execute_reply": "2025-03-26T12:50:05.599749Z"
    },
    "papermill": {
     "duration": 2.985625,
     "end_time": "2025-03-26T12:50:05.603369",
     "exception": false,
     "start_time": "2025-03-26T12:50:02.617744",
     "status": "completed"
    },
    "tags": []
   },
   "outputs": [
    {
     "name": "stdout",
     "output_type": "stream",
     "text": [
      "Validation MAE: 29,653\n",
      "\n",
      "Setup complete\n"
     ]
    }
   ],
   "source": [
    "# Code you have previously used to load data\n",
    "import pandas as pd\n",
    "from sklearn.metrics import mean_absolute_error\n",
    "from sklearn.model_selection import train_test_split\n",
    "from sklearn.tree import DecisionTreeRegressor\n",
    "\n",
    "\n",
    "# Path of the file to read\n",
    "iowa_file_path = '../input/home-data-for-ml-course/train.csv'\n",
    "\n",
    "home_data = pd.read_csv(iowa_file_path)\n",
    "# Create target object and call it y\n",
    "y = home_data.SalePrice\n",
    "# Create X\n",
    "features = ['LotArea', 'YearBuilt', '1stFlrSF', '2ndFlrSF', 'FullBath', 'BedroomAbvGr', 'TotRmsAbvGrd']\n",
    "X = home_data[features]\n",
    "\n",
    "# Split into validation and training data\n",
    "train_X, val_X, train_y, val_y = train_test_split(X, y, random_state=1)\n",
    "\n",
    "# Specify Model\n",
    "iowa_model = DecisionTreeRegressor(random_state=1)\n",
    "# Fit Model\n",
    "iowa_model.fit(train_X, train_y)\n",
    "\n",
    "# Make validation predictions and calculate mean absolute error\n",
    "val_predictions = iowa_model.predict(val_X)\n",
    "val_mae = mean_absolute_error(val_predictions, val_y)\n",
    "print(\"Validation MAE: {:,.0f}\".format(val_mae))\n",
    "\n",
    "# Set up code checking\n",
    "from learntools.core import binder\n",
    "binder.bind(globals())\n",
    "from learntools.machine_learning.ex5 import *\n",
    "print(\"\\nSetup complete\")"
   ]
  },
  {
   "cell_type": "markdown",
   "id": "fe096a73",
   "metadata": {
    "papermill": {
     "duration": 0.003226,
     "end_time": "2025-03-26T12:50:05.610602",
     "exception": false,
     "start_time": "2025-03-26T12:50:05.607376",
     "status": "completed"
    },
    "tags": []
   },
   "source": [
    "# Exercises\n",
    "You could write the function `get_mae` yourself. For now, we'll supply it. This is the same function you read about in the previous lesson. Just run the cell below."
   ]
  },
  {
   "cell_type": "code",
   "execution_count": 2,
   "id": "4c6420bd",
   "metadata": {
    "execution": {
     "iopub.execute_input": "2025-03-26T12:50:05.619204Z",
     "iopub.status.busy": "2025-03-26T12:50:05.618682Z",
     "iopub.status.idle": "2025-03-26T12:50:05.625190Z",
     "shell.execute_reply": "2025-03-26T12:50:05.623816Z"
    },
    "papermill": {
     "duration": 0.013016,
     "end_time": "2025-03-26T12:50:05.627102",
     "exception": false,
     "start_time": "2025-03-26T12:50:05.614086",
     "status": "completed"
    },
    "tags": []
   },
   "outputs": [],
   "source": [
    "def get_mae(max_leaf_nodes, train_X, val_X, train_y, val_y):\n",
    "    model = DecisionTreeRegressor(max_leaf_nodes=max_leaf_nodes, random_state=0)\n",
    "    model.fit(train_X, train_y)\n",
    "    preds_val = model.predict(val_X)\n",
    "    mae = mean_absolute_error(val_y, preds_val)\n",
    "    return(mae)"
   ]
  },
  {
   "cell_type": "markdown",
   "id": "c1cb8855",
   "metadata": {
    "papermill": {
     "duration": 0.002784,
     "end_time": "2025-03-26T12:50:05.633303",
     "exception": false,
     "start_time": "2025-03-26T12:50:05.630519",
     "status": "completed"
    },
    "tags": []
   },
   "source": [
    "## Step 1: Compare Different Tree Sizes\n",
    "Write a loop that tries the following values for *max_leaf_nodes* from a set of possible values.\n",
    "\n",
    "Call the *get_mae* function on each value of max_leaf_nodes. Store the output in some way that allows you to select the value of `max_leaf_nodes` that gives the most accurate model on your data."
   ]
  },
  {
   "cell_type": "code",
   "execution_count": 3,
   "id": "4190a8d6",
   "metadata": {
    "execution": {
     "iopub.execute_input": "2025-03-26T12:50:05.640788Z",
     "iopub.status.busy": "2025-03-26T12:50:05.640464Z",
     "iopub.status.idle": "2025-03-26T12:50:05.691515Z",
     "shell.execute_reply": "2025-03-26T12:50:05.690341Z"
    },
    "papermill": {
     "duration": 0.056866,
     "end_time": "2025-03-26T12:50:05.693339",
     "exception": false,
     "start_time": "2025-03-26T12:50:05.636473",
     "status": "completed"
    },
    "tags": []
   },
   "outputs": [
    {
     "name": "stdout",
     "output_type": "stream",
     "text": [
      "Decision Tree with 5 depth mae: \t\t 35044.51299744237\n",
      "Decision Tree with 25 depth mae: \t\t 29016.41319191076\n",
      "Decision Tree with 50 depth mae: \t\t 27405.930473214907\n",
      "Decision Tree with 100 depth mae: \t\t 27282.50803885739\n",
      "Decision Tree with 250 depth mae: \t\t 27893.822225701646\n",
      "Decision Tree with 500 depth mae: \t\t 29454.18598068598\n"
     ]
    },
    {
     "data": {
      "application/javascript": [
       "parent.postMessage({\"jupyterEvent\": \"custom.exercise_interaction\", \"data\": {\"outcomeType\": 1, \"valueTowardsCompletion\": 0.5, \"interactionType\": 1, \"questionType\": 1, \"questionId\": \"1_BestTreeSize\", \"learnToolsVersion\": \"0.3.4\", \"failureMessage\": \"\", \"exceptionClass\": \"\", \"trace\": \"\"}}, \"*\")"
      ],
      "text/plain": [
       "<IPython.core.display.Javascript object>"
      ]
     },
     "metadata": {},
     "output_type": "display_data"
    },
    {
     "data": {
      "text/markdown": [
       "<span style=\"color:#33cc33\">Correct</span>"
      ],
      "text/plain": [
       "Correct"
      ]
     },
     "metadata": {},
     "output_type": "display_data"
    }
   ],
   "source": [
    "candidate_max_leaf_nodes = [5, 25, 50, 100, 250, 500]\n",
    "# Write loop to find the ideal tree size from candidate_max_leaf_nodes\n",
    "for leaf in candidate_max_leaf_nodes:\n",
    "    my_mae = get_mae(leaf, train_X, val_X, train_y, val_y)\n",
    "    print(f'Decision Tree with {leaf} depth mae: \\t\\t {my_mae}')\n",
    "\n",
    "# Store the best value of max_leaf_nodes (it will be either 5, 25, 50, 100, 250 or 500)\n",
    "best_tree_size = 100\n",
    "\n",
    "# Check your answer\n",
    "step_1.check()"
   ]
  },
  {
   "cell_type": "code",
   "execution_count": 4,
   "id": "daeda2ab",
   "metadata": {
    "execution": {
     "iopub.execute_input": "2025-03-26T12:50:05.701884Z",
     "iopub.status.busy": "2025-03-26T12:50:05.701539Z",
     "iopub.status.idle": "2025-03-26T12:50:05.705790Z",
     "shell.execute_reply": "2025-03-26T12:50:05.704586Z"
    },
    "papermill": {
     "duration": 0.010631,
     "end_time": "2025-03-26T12:50:05.707697",
     "exception": false,
     "start_time": "2025-03-26T12:50:05.697066",
     "status": "completed"
    },
    "tags": []
   },
   "outputs": [],
   "source": [
    "# The lines below will show you a hint or the solution.\n",
    "# step_1.hint() \n",
    "# step_1.solution()"
   ]
  },
  {
   "cell_type": "markdown",
   "id": "725b0e47",
   "metadata": {
    "papermill": {
     "duration": 0.004493,
     "end_time": "2025-03-26T12:50:05.716058",
     "exception": false,
     "start_time": "2025-03-26T12:50:05.711565",
     "status": "completed"
    },
    "tags": []
   },
   "source": [
    "## Step 2: Fit Model Using All Data\n",
    "You know the best tree size. If you were going to deploy this model in practice, you would make it even more accurate by using all of the data and keeping that tree size.  That is, you don't need to hold out the validation data now that you've made all your modeling decisions."
   ]
  },
  {
   "cell_type": "code",
   "execution_count": 5,
   "id": "afe5b260",
   "metadata": {
    "execution": {
     "iopub.execute_input": "2025-03-26T12:50:05.724518Z",
     "iopub.status.busy": "2025-03-26T12:50:05.724036Z",
     "iopub.status.idle": "2025-03-26T12:50:05.742205Z",
     "shell.execute_reply": "2025-03-26T12:50:05.740932Z"
    },
    "papermill": {
     "duration": 0.024942,
     "end_time": "2025-03-26T12:50:05.744377",
     "exception": false,
     "start_time": "2025-03-26T12:50:05.719435",
     "status": "completed"
    },
    "tags": []
   },
   "outputs": [
    {
     "data": {
      "application/javascript": [
       "parent.postMessage({\"jupyterEvent\": \"custom.exercise_interaction\", \"data\": {\"outcomeType\": 1, \"valueTowardsCompletion\": 0.5, \"interactionType\": 1, \"questionType\": 2, \"questionId\": \"2_FitModelWithAllData\", \"learnToolsVersion\": \"0.3.4\", \"failureMessage\": \"\", \"exceptionClass\": \"\", \"trace\": \"\"}}, \"*\")"
      ],
      "text/plain": [
       "<IPython.core.display.Javascript object>"
      ]
     },
     "metadata": {},
     "output_type": "display_data"
    },
    {
     "data": {
      "text/markdown": [
       "<span style=\"color:#33cc33\">Correct</span>"
      ],
      "text/plain": [
       "Correct"
      ]
     },
     "metadata": {},
     "output_type": "display_data"
    }
   ],
   "source": [
    "# Fill in argument to make optimal size and uncomment\n",
    "final_model = DecisionTreeRegressor(max_leaf_nodes = 100, random_state = 1)\n",
    "\n",
    "# fit the final model and uncomment the next two lines\n",
    "final_model.fit(X, y)\n",
    "\n",
    "# Check your answer\n",
    "step_2.check()"
   ]
  },
  {
   "cell_type": "code",
   "execution_count": 6,
   "id": "eede0e41",
   "metadata": {
    "execution": {
     "iopub.execute_input": "2025-03-26T12:50:05.753409Z",
     "iopub.status.busy": "2025-03-26T12:50:05.753076Z",
     "iopub.status.idle": "2025-03-26T12:50:05.757774Z",
     "shell.execute_reply": "2025-03-26T12:50:05.756282Z"
    },
    "papermill": {
     "duration": 0.011658,
     "end_time": "2025-03-26T12:50:05.760008",
     "exception": false,
     "start_time": "2025-03-26T12:50:05.748350",
     "status": "completed"
    },
    "tags": []
   },
   "outputs": [],
   "source": [
    "# step_2.hint()\n",
    "# step_2.solution()"
   ]
  },
  {
   "cell_type": "markdown",
   "id": "d4203e83",
   "metadata": {
    "papermill": {
     "duration": 0.003676,
     "end_time": "2025-03-26T12:50:05.767965",
     "exception": false,
     "start_time": "2025-03-26T12:50:05.764289",
     "status": "completed"
    },
    "tags": []
   },
   "source": [
    "You've tuned this model and improved your results. But we are still using Decision Tree models, which are not very sophisticated by modern machine learning standards. In the next step you will learn to use Random Forests to improve your models even more.\n",
    "\n",
    "# Keep Going\n",
    "\n",
    "You are ready for **[Random Forests](https://www.kaggle.com/dansbecker/random-forests).**\n"
   ]
  },
  {
   "cell_type": "markdown",
   "id": "72bfd30d",
   "metadata": {
    "papermill": {
     "duration": 0.00329,
     "end_time": "2025-03-26T12:50:05.774855",
     "exception": false,
     "start_time": "2025-03-26T12:50:05.771565",
     "status": "completed"
    },
    "tags": []
   },
   "source": [
    "---\n",
    "\n",
    "\n",
    "\n",
    "\n",
    "*Have questions or comments? Visit the [course discussion forum](https://www.kaggle.com/learn/intro-to-machine-learning/discussion) to chat with other learners.*"
   ]
  }
 ],
 "metadata": {
  "kaggle": {
   "accelerator": "none",
   "dataSources": [
    {
     "databundleVersionId": 111096,
     "sourceId": 10211,
     "sourceType": "competition"
    },
    {
     "datasetId": 11167,
     "sourceId": 15520,
     "sourceType": "datasetVersion"
    },
    {
     "datasetId": 2709,
     "sourceId": 38454,
     "sourceType": "datasetVersion"
    }
   ],
   "isGpuEnabled": false,
   "isInternetEnabled": false,
   "language": "python",
   "sourceType": "notebook"
  },
  "kernelspec": {
   "display_name": "Python 3",
   "language": "python",
   "name": "python3"
  },
  "language_info": {
   "codemirror_mode": {
    "name": "ipython",
    "version": 3
   },
   "file_extension": ".py",
   "mimetype": "text/x-python",
   "name": "python",
   "nbconvert_exporter": "python",
   "pygments_lexer": "ipython3",
   "version": "3.10.12"
  },
  "papermill": {
   "default_parameters": {},
   "duration": 7.157177,
   "end_time": "2025-03-26T12:50:06.500410",
   "environment_variables": {},
   "exception": null,
   "input_path": "__notebook__.ipynb",
   "output_path": "__notebook__.ipynb",
   "parameters": {},
   "start_time": "2025-03-26T12:49:59.343233",
   "version": "2.6.0"
  }
 },
 "nbformat": 4,
 "nbformat_minor": 5
}
