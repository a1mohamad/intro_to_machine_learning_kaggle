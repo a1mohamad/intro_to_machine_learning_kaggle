{
 "cells": [
  {
   "cell_type": "markdown",
   "id": "82be6d8f",
   "metadata": {
    "papermill": {
     "duration": 0.004268,
     "end_time": "2025-03-24T13:37:50.836624",
     "exception": false,
     "start_time": "2025-03-24T13:37:50.832356",
     "status": "completed"
    },
    "tags": []
   },
   "source": [
    "**This notebook is an exercise in the [Introduction to Machine Learning](https://www.kaggle.com/learn/intro-to-machine-learning) course.  You can reference the tutorial at [this link](https://www.kaggle.com/dansbecker/model-validation).**\n",
    "\n",
    "---\n"
   ]
  },
  {
   "cell_type": "markdown",
   "id": "cfdcfb40",
   "metadata": {
    "papermill": {
     "duration": 0.00344,
     "end_time": "2025-03-24T13:37:50.843915",
     "exception": false,
     "start_time": "2025-03-24T13:37:50.840475",
     "status": "completed"
    },
    "tags": []
   },
   "source": [
    "## Recap\n",
    "You've built a model. In this exercise you will test how good your model is.\n",
    "\n",
    "Run the cell below to set up your coding environment where the previous exercise left off."
   ]
  },
  {
   "cell_type": "code",
   "execution_count": 1,
   "id": "6e6f79de",
   "metadata": {
    "execution": {
     "iopub.execute_input": "2025-03-24T13:37:50.852412Z",
     "iopub.status.busy": "2025-03-24T13:37:50.852074Z",
     "iopub.status.idle": "2025-03-24T13:37:53.712309Z",
     "shell.execute_reply": "2025-03-24T13:37:53.710878Z"
    },
    "papermill": {
     "duration": 2.866688,
     "end_time": "2025-03-24T13:37:53.714230",
     "exception": false,
     "start_time": "2025-03-24T13:37:50.847542",
     "status": "completed"
    },
    "tags": []
   },
   "outputs": [
    {
     "name": "stdout",
     "output_type": "stream",
     "text": [
      "First in-sample predictions: [208500. 181500. 223500. 140000. 250000.]\n",
      "Actual target values for those homes: [208500, 181500, 223500, 140000, 250000]\n",
      "Setup Complete\n"
     ]
    }
   ],
   "source": [
    "# Code you have previously used to load data\n",
    "import pandas as pd\n",
    "from sklearn.tree import DecisionTreeRegressor\n",
    "\n",
    "# Path of the file to read\n",
    "iowa_file_path = '../input/home-data-for-ml-course/train.csv'\n",
    "\n",
    "home_data = pd.read_csv(iowa_file_path)\n",
    "y = home_data.SalePrice\n",
    "feature_columns = ['LotArea', 'YearBuilt', '1stFlrSF', '2ndFlrSF', 'FullBath', 'BedroomAbvGr', 'TotRmsAbvGrd']\n",
    "X = home_data[feature_columns]\n",
    "\n",
    "# Specify Model\n",
    "iowa_model = DecisionTreeRegressor()\n",
    "# Fit Model\n",
    "iowa_model.fit(X, y)\n",
    "\n",
    "print(\"First in-sample predictions:\", iowa_model.predict(X.head()))\n",
    "print(\"Actual target values for those homes:\", y.head().tolist())\n",
    "\n",
    "# Set up code checking\n",
    "from learntools.core import binder\n",
    "binder.bind(globals())\n",
    "from learntools.machine_learning.ex4 import *\n",
    "print(\"Setup Complete\")"
   ]
  },
  {
   "cell_type": "markdown",
   "id": "6310c7eb",
   "metadata": {
    "papermill": {
     "duration": 0.003625,
     "end_time": "2025-03-24T13:37:53.721794",
     "exception": false,
     "start_time": "2025-03-24T13:37:53.718169",
     "status": "completed"
    },
    "tags": []
   },
   "source": [
    "# Exercises\n",
    "\n",
    "## Step 1: Split Your Data\n",
    "Use the `train_test_split` function to split up your data.\n",
    "\n",
    "Give it the argument `random_state=1` so the `check` functions know what to expect when verifying your code.\n",
    "\n",
    "Recall, your features are loaded in the DataFrame **X** and your target is loaded in **y**.\n"
   ]
  },
  {
   "cell_type": "code",
   "execution_count": 2,
   "id": "9948d7cc",
   "metadata": {
    "execution": {
     "iopub.execute_input": "2025-03-24T13:37:53.730426Z",
     "iopub.status.busy": "2025-03-24T13:37:53.730107Z",
     "iopub.status.idle": "2025-03-24T13:37:53.743781Z",
     "shell.execute_reply": "2025-03-24T13:37:53.742906Z"
    },
    "papermill": {
     "duration": 0.020126,
     "end_time": "2025-03-24T13:37:53.745597",
     "exception": false,
     "start_time": "2025-03-24T13:37:53.725471",
     "status": "completed"
    },
    "tags": []
   },
   "outputs": [
    {
     "data": {
      "application/javascript": [
       "parent.postMessage({\"jupyterEvent\": \"custom.exercise_interaction\", \"data\": {\"outcomeType\": 1, \"valueTowardsCompletion\": 0.25, \"interactionType\": 1, \"questionType\": 2, \"questionId\": \"1_SplitData\", \"learnToolsVersion\": \"0.3.4\", \"failureMessage\": \"\", \"exceptionClass\": \"\", \"trace\": \"\"}}, \"*\")"
      ],
      "text/plain": [
       "<IPython.core.display.Javascript object>"
      ]
     },
     "metadata": {},
     "output_type": "display_data"
    },
    {
     "data": {
      "text/markdown": [
       "<span style=\"color:#33cc33\">Correct</span>"
      ],
      "text/plain": [
       "Correct"
      ]
     },
     "metadata": {},
     "output_type": "display_data"
    }
   ],
   "source": [
    "# Import the train_test_split function and uncomment\n",
    "from sklearn.model_selection import train_test_split\n",
    "# fill in and uncomment\n",
    "train_X, val_X, train_y, val_y = train_test_split(X, y, random_state= 1)\n",
    "\n",
    "# Check your answer\n",
    "step_1.check()"
   ]
  },
  {
   "cell_type": "code",
   "execution_count": 3,
   "id": "85300624",
   "metadata": {
    "execution": {
     "iopub.execute_input": "2025-03-24T13:37:53.755585Z",
     "iopub.status.busy": "2025-03-24T13:37:53.755269Z",
     "iopub.status.idle": "2025-03-24T13:37:53.758804Z",
     "shell.execute_reply": "2025-03-24T13:37:53.757974Z"
    },
    "papermill": {
     "duration": 0.010275,
     "end_time": "2025-03-24T13:37:53.760433",
     "exception": false,
     "start_time": "2025-03-24T13:37:53.750158",
     "status": "completed"
    },
    "tags": []
   },
   "outputs": [],
   "source": [
    "# The lines below will show you a hint or the solution.\n",
    "# step_1.hint() \n",
    "# step_1.solution()\n"
   ]
  },
  {
   "cell_type": "markdown",
   "id": "1232316c",
   "metadata": {
    "papermill": {
     "duration": 0.003796,
     "end_time": "2025-03-24T13:37:53.768613",
     "exception": false,
     "start_time": "2025-03-24T13:37:53.764817",
     "status": "completed"
    },
    "tags": []
   },
   "source": [
    "## Step 2: Specify and Fit the Model\n",
    "\n",
    "Create a `DecisionTreeRegressor` model and fit it to the relevant data.\n",
    "Set `random_state` to 1 again when creating the model."
   ]
  },
  {
   "cell_type": "code",
   "execution_count": 4,
   "id": "a41e68dc",
   "metadata": {
    "execution": {
     "iopub.execute_input": "2025-03-24T13:37:53.778249Z",
     "iopub.status.busy": "2025-03-24T13:37:53.777841Z",
     "iopub.status.idle": "2025-03-24T13:37:53.803759Z",
     "shell.execute_reply": "2025-03-24T13:37:53.802846Z"
    },
    "papermill": {
     "duration": 0.032595,
     "end_time": "2025-03-24T13:37:53.805345",
     "exception": false,
     "start_time": "2025-03-24T13:37:53.772750",
     "status": "completed"
    },
    "tags": []
   },
   "outputs": [
    {
     "name": "stdout",
     "output_type": "stream",
     "text": [
      "[186500. 184000. 130000.  92000. 164500. 220000. 335000. 144152. 215000.\n",
      " 262000.]\n",
      "[186500. 184000. 130000.  92000. 164500. 220000. 335000. 144152. 215000.\n",
      " 262000.]\n"
     ]
    },
    {
     "data": {
      "application/javascript": [
       "parent.postMessage({\"jupyterEvent\": \"custom.exercise_interaction\", \"data\": {\"outcomeType\": 1, \"valueTowardsCompletion\": 0.25, \"interactionType\": 1, \"questionType\": 2, \"questionId\": \"2_FitModelWithTrain\", \"learnToolsVersion\": \"0.3.4\", \"failureMessage\": \"\", \"exceptionClass\": \"\", \"trace\": \"\"}}, \"*\")"
      ],
      "text/plain": [
       "<IPython.core.display.Javascript object>"
      ]
     },
     "metadata": {},
     "output_type": "display_data"
    },
    {
     "data": {
      "text/markdown": [
       "<span style=\"color:#33cc33\">Correct</span>"
      ],
      "text/plain": [
       "Correct"
      ]
     },
     "metadata": {},
     "output_type": "display_data"
    }
   ],
   "source": [
    "# You imported DecisionTreeRegressor in your last exercise\n",
    "# and that code has been copied to the setup code above. So, no need to\n",
    "# import it again\n",
    "\n",
    "# Specify the model\n",
    "iowa_model = DecisionTreeRegressor(random_state= 1)\n",
    "\n",
    "# Fit iowa_model with the training data.\n",
    "iowa_model.fit(train_X, train_y)\n",
    "# Check your answer\n",
    "step_2.check()"
   ]
  },
  {
   "cell_type": "code",
   "execution_count": 5,
   "id": "4ed2685d",
   "metadata": {
    "execution": {
     "iopub.execute_input": "2025-03-24T13:37:53.815279Z",
     "iopub.status.busy": "2025-03-24T13:37:53.814872Z",
     "iopub.status.idle": "2025-03-24T13:37:53.818575Z",
     "shell.execute_reply": "2025-03-24T13:37:53.817554Z"
    },
    "papermill": {
     "duration": 0.010413,
     "end_time": "2025-03-24T13:37:53.820111",
     "exception": false,
     "start_time": "2025-03-24T13:37:53.809698",
     "status": "completed"
    },
    "tags": []
   },
   "outputs": [],
   "source": [
    "# step_2.hint()\n",
    "# step_2.solution()"
   ]
  },
  {
   "cell_type": "markdown",
   "id": "3326372d",
   "metadata": {
    "papermill": {
     "duration": 0.004131,
     "end_time": "2025-03-24T13:37:53.828814",
     "exception": false,
     "start_time": "2025-03-24T13:37:53.824683",
     "status": "completed"
    },
    "tags": []
   },
   "source": [
    "## Step 3: Make Predictions with Validation data\n"
   ]
  },
  {
   "cell_type": "code",
   "execution_count": 6,
   "id": "79125c1c",
   "metadata": {
    "execution": {
     "iopub.execute_input": "2025-03-24T13:37:53.838493Z",
     "iopub.status.busy": "2025-03-24T13:37:53.838180Z",
     "iopub.status.idle": "2025-03-24T13:37:53.847999Z",
     "shell.execute_reply": "2025-03-24T13:37:53.847195Z"
    },
    "papermill": {
     "duration": 0.016516,
     "end_time": "2025-03-24T13:37:53.849577",
     "exception": false,
     "start_time": "2025-03-24T13:37:53.833061",
     "status": "completed"
    },
    "tags": []
   },
   "outputs": [
    {
     "data": {
      "application/javascript": [
       "parent.postMessage({\"jupyterEvent\": \"custom.exercise_interaction\", \"data\": {\"outcomeType\": 1, \"valueTowardsCompletion\": 0.25, \"interactionType\": 1, \"questionType\": 2, \"questionId\": \"3_ValPreds\", \"learnToolsVersion\": \"0.3.4\", \"failureMessage\": \"\", \"exceptionClass\": \"\", \"trace\": \"\"}}, \"*\")"
      ],
      "text/plain": [
       "<IPython.core.display.Javascript object>"
      ]
     },
     "metadata": {},
     "output_type": "display_data"
    },
    {
     "data": {
      "text/markdown": [
       "<span style=\"color:#33cc33\">Correct</span>"
      ],
      "text/plain": [
       "Correct"
      ]
     },
     "metadata": {},
     "output_type": "display_data"
    }
   ],
   "source": [
    "# Predict with all validation observations\n",
    "val_predictions = iowa_model.predict(val_X)\n",
    "\n",
    "# Check your answer\n",
    "step_3.check()"
   ]
  },
  {
   "cell_type": "code",
   "execution_count": 7,
   "id": "1281e6f7",
   "metadata": {
    "execution": {
     "iopub.execute_input": "2025-03-24T13:37:53.859889Z",
     "iopub.status.busy": "2025-03-24T13:37:53.859568Z",
     "iopub.status.idle": "2025-03-24T13:37:53.863183Z",
     "shell.execute_reply": "2025-03-24T13:37:53.862261Z"
    },
    "papermill": {
     "duration": 0.010389,
     "end_time": "2025-03-24T13:37:53.864630",
     "exception": false,
     "start_time": "2025-03-24T13:37:53.854241",
     "status": "completed"
    },
    "tags": []
   },
   "outputs": [],
   "source": [
    "# step_3.hint()\n",
    "# step_3.solution()"
   ]
  },
  {
   "cell_type": "markdown",
   "id": "7877268f",
   "metadata": {
    "papermill": {
     "duration": 0.004315,
     "end_time": "2025-03-24T13:37:53.873827",
     "exception": false,
     "start_time": "2025-03-24T13:37:53.869512",
     "status": "completed"
    },
    "tags": []
   },
   "source": [
    "Inspect your predictions and actual values from validation data."
   ]
  },
  {
   "cell_type": "code",
   "execution_count": 8,
   "id": "4ae77121",
   "metadata": {
    "execution": {
     "iopub.execute_input": "2025-03-24T13:37:53.884302Z",
     "iopub.status.busy": "2025-03-24T13:37:53.883918Z",
     "iopub.status.idle": "2025-03-24T13:37:53.891339Z",
     "shell.execute_reply": "2025-03-24T13:37:53.890197Z"
    },
    "papermill": {
     "duration": 0.014429,
     "end_time": "2025-03-24T13:37:53.892814",
     "exception": false,
     "start_time": "2025-03-24T13:37:53.878385",
     "status": "completed"
    },
    "tags": []
   },
   "outputs": [
    {
     "name": "stdout",
     "output_type": "stream",
     "text": [
      "[186500. 184000. 130000.  92000. 164500.]\n",
      "[231500, 179500, 122000, 84500, 142000]\n"
     ]
    }
   ],
   "source": [
    "# print the top few validation predictions\n",
    "print(iowa_model.predict(val_X.head()))\n",
    "# print the top few actual prices from validation data\n",
    "print(val_y.head().tolist())"
   ]
  },
  {
   "cell_type": "markdown",
   "id": "29199e77",
   "metadata": {
    "papermill": {
     "duration": 0.004315,
     "end_time": "2025-03-24T13:37:53.901906",
     "exception": false,
     "start_time": "2025-03-24T13:37:53.897591",
     "status": "completed"
    },
    "tags": []
   },
   "source": [
    "What do you notice that is different from what you saw with in-sample predictions (which are printed after the top code cell in this page).\n",
    "\n",
    "Do you remember why validation predictions differ from in-sample (or training) predictions? This is an important idea from the last lesson.\n",
    "\n",
    "## Step 4: Calculate the Mean Absolute Error in Validation Data\n"
   ]
  },
  {
   "cell_type": "code",
   "execution_count": 9,
   "id": "fcd8a3c1",
   "metadata": {
    "execution": {
     "iopub.execute_input": "2025-03-24T13:37:53.912353Z",
     "iopub.status.busy": "2025-03-24T13:37:53.911986Z",
     "iopub.status.idle": "2025-03-24T13:37:53.919924Z",
     "shell.execute_reply": "2025-03-24T13:37:53.919032Z"
    },
    "papermill": {
     "duration": 0.014946,
     "end_time": "2025-03-24T13:37:53.921365",
     "exception": false,
     "start_time": "2025-03-24T13:37:53.906419",
     "status": "completed"
    },
    "tags": []
   },
   "outputs": [
    {
     "data": {
      "application/javascript": [
       "parent.postMessage({\"jupyterEvent\": \"custom.exercise_interaction\", \"data\": {\"outcomeType\": 1, \"valueTowardsCompletion\": 0.25, \"interactionType\": 1, \"questionType\": 1, \"questionId\": \"4_MAE\", \"learnToolsVersion\": \"0.3.4\", \"failureMessage\": \"\", \"exceptionClass\": \"\", \"trace\": \"\"}}, \"*\")"
      ],
      "text/plain": [
       "<IPython.core.display.Javascript object>"
      ]
     },
     "metadata": {},
     "output_type": "display_data"
    },
    {
     "data": {
      "text/markdown": [
       "<span style=\"color:#33cc33\">Correct</span>"
      ],
      "text/plain": [
       "Correct"
      ]
     },
     "metadata": {},
     "output_type": "display_data"
    }
   ],
   "source": [
    "from sklearn.metrics import mean_absolute_error\n",
    "val_mae = mean_absolute_error(val_y, val_predictions)\n",
    "\n",
    "# uncomment following line to see the validation_mae\n",
    "#print(val_mae)\n",
    "\n",
    "# Check your answer\n",
    "step_4.check()"
   ]
  },
  {
   "cell_type": "code",
   "execution_count": 10,
   "id": "7b72317a",
   "metadata": {
    "execution": {
     "iopub.execute_input": "2025-03-24T13:37:53.932533Z",
     "iopub.status.busy": "2025-03-24T13:37:53.932224Z",
     "iopub.status.idle": "2025-03-24T13:37:53.935809Z",
     "shell.execute_reply": "2025-03-24T13:37:53.935026Z"
    },
    "papermill": {
     "duration": 0.011039,
     "end_time": "2025-03-24T13:37:53.937357",
     "exception": false,
     "start_time": "2025-03-24T13:37:53.926318",
     "status": "completed"
    },
    "tags": []
   },
   "outputs": [],
   "source": [
    "# step_4.hint()\n",
    "# step_4.solution()"
   ]
  },
  {
   "cell_type": "markdown",
   "id": "245d5f48",
   "metadata": {
    "papermill": {
     "duration": 0.004448,
     "end_time": "2025-03-24T13:37:53.946717",
     "exception": false,
     "start_time": "2025-03-24T13:37:53.942269",
     "status": "completed"
    },
    "tags": []
   },
   "source": [
    "Is that MAE good?  There isn't a general rule for what values are good that applies across applications. But you'll see how to use (and improve) this number in the next step.\n",
    "\n",
    "# Keep Going\n",
    "\n",
    "You are ready for **[Underfitting and Overfitting](https://www.kaggle.com/dansbecker/underfitting-and-overfitting).**\n"
   ]
  },
  {
   "cell_type": "markdown",
   "id": "bf0da0ff",
   "metadata": {
    "papermill": {
     "duration": 0.004371,
     "end_time": "2025-03-24T13:37:53.955855",
     "exception": false,
     "start_time": "2025-03-24T13:37:53.951484",
     "status": "completed"
    },
    "tags": []
   },
   "source": [
    "---\n",
    "\n",
    "\n",
    "\n",
    "\n",
    "*Have questions or comments? Visit the [course discussion forum](https://www.kaggle.com/learn/intro-to-machine-learning/discussion) to chat with other learners.*"
   ]
  }
 ],
 "metadata": {
  "kaggle": {
   "accelerator": "none",
   "dataSources": [
    {
     "databundleVersionId": 111096,
     "sourceId": 10211,
     "sourceType": "competition"
    },
    {
     "datasetId": 11167,
     "sourceId": 15520,
     "sourceType": "datasetVersion"
    },
    {
     "datasetId": 2709,
     "sourceId": 38454,
     "sourceType": "datasetVersion"
    }
   ],
   "isGpuEnabled": false,
   "isInternetEnabled": false,
   "language": "python",
   "sourceType": "notebook"
  },
  "kernelspec": {
   "display_name": "Python 3",
   "language": "python",
   "name": "python3"
  },
  "language_info": {
   "codemirror_mode": {
    "name": "ipython",
    "version": 3
   },
   "file_extension": ".py",
   "mimetype": "text/x-python",
   "name": "python",
   "nbconvert_exporter": "python",
   "pygments_lexer": "ipython3",
   "version": "3.10.12"
  },
  "papermill": {
   "default_parameters": {},
   "duration": 6.597025,
   "end_time": "2025-03-24T13:37:54.681654",
   "environment_variables": {},
   "exception": null,
   "input_path": "__notebook__.ipynb",
   "output_path": "__notebook__.ipynb",
   "parameters": {},
   "start_time": "2025-03-24T13:37:48.084629",
   "version": "2.6.0"
  }
 },
 "nbformat": 4,
 "nbformat_minor": 5
}
